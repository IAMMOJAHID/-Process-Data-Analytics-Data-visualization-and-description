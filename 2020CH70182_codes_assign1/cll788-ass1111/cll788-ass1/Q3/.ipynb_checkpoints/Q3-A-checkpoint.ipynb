{
 "cells": [
  {
   "cell_type": "code",
   "execution_count": 73,
   "id": "ba60b14a",
   "metadata": {},
   "outputs": [],
   "source": [
    "import pandas as pd\n",
    "import numpy as np\n",
    "import matplotlib.pyplot as plt\n",
    "%matplotlib inline\n",
    "import time\n",
    "import math\n",
    "from scipy.stats import multivariate_normal"
   ]
  },
  {
   "cell_type": "code",
   "execution_count": 74,
   "id": "682f77e6",
   "metadata": {},
   "outputs": [],
   "source": [
    "data_train = \"q2train.xlsx\"\n",
    "data_test = \"q2test.xlsx\""
   ]
  },
  {
   "cell_type": "code",
   "execution_count": 75,
   "id": "7eafcb5b",
   "metadata": {},
   "outputs": [],
   "source": [
    "read_train = pd.read_excel(data_train)\n",
    "read_test = pd.read_excel(data_test)"
   ]
  },
  {
   "cell_type": "code",
   "execution_count": 82,
   "id": "cec6bf03",
   "metadata": {},
   "outputs": [],
   "source": [
    "list_train_aptitude = list(read_train['Aptitude'])\n",
    "list_train_verbal = list(read_train['Verbal'])\n",
    "list_train_label = list(read_train['Label'])\n",
    "\n",
    "list_test_aptitude = list(read_test['Aptitude'])\n",
    "list_test_verbal = list(read_test['Verbal'])"
   ]
  },
  {
   "cell_type": "code",
   "execution_count": 83,
   "id": "792ddff9",
   "metadata": {},
   "outputs": [],
   "source": [
    "itr = 0\n",
    "alpha = 0.001\n",
    "theta = [0, 0, 0]\n",
    "m=len(list_train_label)"
   ]
  },
  {
   "cell_type": "code",
   "execution_count": 84,
   "id": "6178331c",
   "metadata": {},
   "outputs": [
    {
     "name": "stdout",
     "output_type": "stream",
     "text": [
      "time taken to converge =  0.0828104019165039\n"
     ]
    }
   ],
   "source": [
    "start = time.time()\n",
    "while itr<10000:\n",
    "    su1=0.0\n",
    "    su2=0.0\n",
    "    su3=0.0\n",
    "    for i in range(m):\n",
    "        temp=(list_train_label[i]-(theta[0] + theta[1]*list_train_aptitude[i] + theta[2]*list_train_verbal[i]))\n",
    "        su1 = su1+ temp\n",
    "        su2 = su2+ temp*list_train_aptitude[i]\n",
    "        su3 = su3+ temp*list_train_verbal[i]\n",
    "        \n",
    "    theta[0] = theta[0] + alpha*su1\n",
    "    theta[1] = theta[1] + alpha*su2 \n",
    "    theta[2] = theta[2] + alpha*su3 \n",
    "    itr = itr + 1\n",
    "    \n",
    "end = time.time()\n",
    "print(\"time taken to converge = \", end - start)"
   ]
  },
  {
   "cell_type": "code",
   "execution_count": 85,
   "id": "ceb5306d",
   "metadata": {},
   "outputs": [
    {
     "data": {
      "text/plain": [
       "[-0.002178688639160489, 0.010401839683821931, -0.001828608190045403]"
      ]
     },
     "execution_count": 85,
     "metadata": {},
     "output_type": "execute_result"
    }
   ],
   "source": [
    "theta"
   ]
  },
  {
   "cell_type": "code",
   "execution_count": 87,
   "id": "ab5bd0ff",
   "metadata": {},
   "outputs": [
    {
     "name": "stdout",
     "output_type": "stream",
     "text": [
      "1\n",
      "1\n",
      "1\n",
      "1\n",
      "1\n",
      "1\n",
      "1\n",
      "1\n",
      "1\n",
      "1\n",
      "1\n",
      "1\n",
      "1\n",
      "1\n",
      "1\n",
      "1\n",
      "1\n",
      "1\n",
      "1\n",
      "1\n",
      "1\n",
      "1\n",
      "1\n",
      "1\n",
      "1\n",
      "1\n",
      "1\n",
      "1\n",
      "1\n",
      "1\n"
     ]
    }
   ],
   "source": [
    "q=len(list_test_aptitude)\n",
    "for i in range(q):\n",
    "    if(1/(1+math.exp(-(theta[0]+theta[1]*list_test_aptitude[i] + theta[2]*list_test_verbal[i])))<=0.5):\n",
    "        print(0)\n",
    "    else:\n",
    "        print(1)"
   ]
  },
  {
   "cell_type": "code",
   "execution_count": null,
   "id": "e50187cf",
   "metadata": {},
   "outputs": [],
   "source": []
  }
 ],
 "metadata": {
  "kernelspec": {
   "display_name": "Python 3 (ipykernel)",
   "language": "python",
   "name": "python3"
  },
  "language_info": {
   "codemirror_mode": {
    "name": "ipython",
    "version": 3
   },
   "file_extension": ".py",
   "mimetype": "text/x-python",
   "name": "python",
   "nbconvert_exporter": "python",
   "pygments_lexer": "ipython3",
   "version": "3.9.13"
  }
 },
 "nbformat": 4,
 "nbformat_minor": 5
}
