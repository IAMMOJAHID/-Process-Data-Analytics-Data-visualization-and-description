{
 "cells": [
  {
   "cell_type": "code",
   "execution_count": 293,
   "id": "c2394065",
   "metadata": {},
   "outputs": [],
   "source": [
    "import pandas as pd\n",
    "import numpy as np \n",
    "import matplotlib.pyplot as plt\n",
    "import time\n",
    "from sklearn.linear_model import ElasticNet\n",
    "from sklearn.linear_model import Lasso\n",
    "from sklearn.linear_model import Ridge"
   ]
  },
  {
   "cell_type": "code",
   "execution_count": 294,
   "id": "9e87aeac",
   "metadata": {},
   "outputs": [],
   "source": [
    "data=pd.read_excel(\"q1.xlsx\")"
   ]
  },
  {
   "cell_type": "code",
   "execution_count": 295,
   "id": "f927091e",
   "metadata": {},
   "outputs": [],
   "source": [
    "list_pop=np.array(data[\"Population in 10,000's\"])"
   ]
  },
  {
   "cell_type": "code",
   "execution_count": 296,
   "id": "8c7bd254",
   "metadata": {},
   "outputs": [],
   "source": [
    "list_profit=np.array(data[\"Profit In Lakhs(Rs)\"])"
   ]
  },
  {
   "cell_type": "code",
   "execution_count": 297,
   "id": "64b2e352",
   "metadata": {},
   "outputs": [],
   "source": [
    "# stochastic LMS"
   ]
  },
  {
   "cell_type": "code",
   "execution_count": 298,
   "id": "15d2656e",
   "metadata": {},
   "outputs": [],
   "source": [
    "eps = 0\n",
    "alphas = 0.001\n",
    "thetas = [0.0, 0.0]"
   ]
  },
  {
   "cell_type": "code",
   "execution_count": 350,
   "id": "4d7f48f2",
   "metadata": {},
   "outputs": [],
   "source": [
    "def matrixmulti(theta, lx0, lx1, m):\n",
    "    \n",
    "    hx = []\n",
    "    lx00 = []\n",
    "    lx11 = []\n",
    "    \n",
    "    for i in range(m):\n",
    "        lx00.append(lx0[i]*theta[0])\n",
    "        lx11.append(lx1[i]*theta[1])\n",
    "        hx.append(lx00[i] + lx11[i])\n",
    "        \n",
    "    return hx\n",
    "\n",
    "def cal_cost(theta, lx0, lx1, m, Y):\n",
    "    \n",
    "    sub1 = []\n",
    "    hx = matrixmulti(theta, lx0, lx1, m)\n",
    "    for i in range(m):\n",
    "        sub1.append(hx[i] - Y[i])\n",
    "        \n",
    "    suml = 0\n",
    "    for i in range(m):\n",
    "        suml = suml + (hx[i] - Y[i])**2\n",
    "        \n",
    "    cost1 = (0.5)*suml\n",
    "    \n",
    "    return cost1"
   ]
  },
  {
   "cell_type": "code",
   "execution_count": 299,
   "id": "d509858f",
   "metadata": {},
   "outputs": [],
   "source": [
    "costs = 0\n",
    "costls = []\n",
    "lx1s = []\n",
    "Ys = []\n",
    "for i in range(97):\n",
    "    lx1s.append(list_pop[i])\n",
    "    Ys.append(list_profit[i])"
   ]
  },
  {
   "cell_type": "code",
   "execution_count": 302,
   "id": "871f82b9",
   "metadata": {},
   "outputs": [
    {
     "name": "stdout",
     "output_type": "stream",
     "text": [
      "time taken to converge =  27.198786735534668\n"
     ]
    }
   ],
   "source": [
    "start = time.time()\n",
    "while eps<2000:\n",
    "    \n",
    "    for i in range(len(list_pop)):\n",
    "        hxi = thetas[0] + thetas[1]*list_pop[i]\n",
    "        thetas[0] = thetas[0] + alphas*(list_profit[i] - hxi)\n",
    "        thetas[1] = thetas[1] + alphas*(list_profit[i] - hxi)*list_pop[i]  \n",
    "        costs = cal_cost(thetas, lx0, lx1s, 97, Ys)\n",
    "        costls.append(costs)\n",
    "    eps = eps + 1\n",
    "    \n",
    "end = time.time()\n",
    "print(\"time taken to converge = \", end - start)"
   ]
  },
  {
   "cell_type": "code",
   "execution_count": 303,
   "id": "a093466f",
   "metadata": {},
   "outputs": [
    {
     "data": {
      "text/plain": [
       "[-3.8284881984190084, 1.0208289676852411]"
      ]
     },
     "execution_count": 303,
     "metadata": {},
     "output_type": "execute_result"
    }
   ],
   "source": [
    "thetas"
   ]
  },
  {
   "cell_type": "code",
   "execution_count": 304,
   "id": "486c036b",
   "metadata": {},
   "outputs": [],
   "source": [
    "xxxelnet = np.linspace(5,25)\n",
    "yyyelnet = thetas[1]*xxxelnet + thetas[0]"
   ]
  },
  {
   "cell_type": "code",
   "execution_count": 352,
   "id": "980f200c",
   "metadata": {},
   "outputs": [
    {
     "data": {
      "image/png": "[encoded data removed]",
      "text/plain": [
       "<Figure size 640x480 with 1 Axes>"
      ]
     },
     "metadata": {},
     "output_type": "display_data"
    }
   ],
   "source": [
    "plt.scatter(list_pop, list_profit, s = 1, c = \"red\")\n",
    "\n",
    "plt.plot(xxxelnet, yyyelnet, \"-y\", alpha = 0.5)\n",
    "\n",
    "plt.xlabel(\"Population\")\n",
    "plt.ylabel(\"Profit\")\n",
    "plt.title(\"Population Vs Profit\")\n",
    "plt.show()"
   ]
  },
  {
   "cell_type": "code",
   "execution_count": 306,
   "id": "59708476",
   "metadata": {},
   "outputs": [],
   "source": [
    "# Batch LMS"
   ]
  },
  {
   "cell_type": "code",
   "execution_count": 307,
   "id": "65f08549",
   "metadata": {},
   "outputs": [],
   "source": [
    "itr = 0\n",
    "alpha = 0.0001\n",
    "theta = [0.0, 0.0]\n",
    "m=len(list_pop)"
   ]
  },
  {
   "cell_type": "code",
   "execution_count": 308,
   "id": "bdcf3df4",
   "metadata": {},
   "outputs": [],
   "source": [
    "def matrixmulti(theta, lx0, lx1, m):\n",
    "    \n",
    "    hx = []\n",
    "    lx00 = []\n",
    "    lx11 = []\n",
    "    \n",
    "    for i in range(m):\n",
    "        lx00.append(lx0[i]*theta[0])\n",
    "        lx11.append(lx1[i]*theta[1])\n",
    "        hx.append(lx00[i] + lx11[i])\n",
    "        \n",
    "    return hx"
   ]
  },
  {
   "cell_type": "code",
   "execution_count": 309,
   "id": "10a44623",
   "metadata": {},
   "outputs": [],
   "source": [
    "def cal_cost(theta, lx0, lx1, m, Y):\n",
    "    \n",
    "    sub1 = []\n",
    "    hx = matrixmulti(theta, lx0, lx1, m)\n",
    "    for i in range(m):\n",
    "        sub1.append(hx[i] - Y[i])\n",
    "        \n",
    "    suml = 0\n",
    "    for i in range(m):\n",
    "        suml = suml + (hx[i] - Y[i])**2\n",
    "        \n",
    "    cost1 = (0.5)*suml\n",
    "    \n",
    "    return cost1"
   ]
  },
  {
   "cell_type": "code",
   "execution_count": 310,
   "id": "8dead250",
   "metadata": {},
   "outputs": [],
   "source": [
    "lx0 = []\n",
    "lx1 = []\n",
    "for i in range(m):\n",
    "    lx0.append(X[i][0])\n",
    "    lx1.append(X[i][1])\n",
    "    \n",
    "X = []\n",
    "Y = []\n",
    "for i in range(0, 97):\n",
    "    l = []\n",
    "    l.append(1.0)\n",
    "    l.append(list_pop[i])\n",
    "    Y.append(list_profit[i])\n",
    "    X.append(l)"
   ]
  },
  {
   "cell_type": "code",
   "execution_count": 311,
   "id": "bc251a45",
   "metadata": {},
   "outputs": [],
   "source": [
    "costl = []\n",
    "cost = 1.0"
   ]
  },
  {
   "cell_type": "code",
   "execution_count": 313,
   "id": "21df7d22",
   "metadata": {},
   "outputs": [
    {
     "name": "stdout",
     "output_type": "stream",
     "text": [
      "time taken to converge =  31.955527305603027\n"
     ]
    }
   ],
   "source": [
    "start = time.time()\n",
    "while itr<100000:\n",
    "    su1=0.0\n",
    "    su2=0.0\n",
    "    for i in range(m):\n",
    "        su1 = su1+ (list_profit[i]-(theta[0] + theta[1]*list_pop[i]))\n",
    "        su2 = su2+ (list_profit[i]-(theta[0] + theta[1]*list_pop[i]))*list_pop[i]\n",
    "        \n",
    "    theta[0] = theta[0] + alpha*su1\n",
    "    theta[1] = theta[1] + alpha*su2\n",
    "    cost = cal_cost(theta, lx0, lx1, 97, Y)\n",
    "    costl.append(cost)\n",
    "    itr = itr + 1\n",
    "    \n",
    "end = time.time()\n",
    "print(\"time taken to converge = \", end - start)"
   ]
  },
  {
   "cell_type": "code",
   "execution_count": 314,
   "id": "3d110e23",
   "metadata": {},
   "outputs": [
    {
     "data": {
      "text/plain": [
       "[-3.915084242730683, 1.1930336441895806]"
      ]
     },
     "execution_count": 314,
     "metadata": {},
     "output_type": "execute_result"
    }
   ],
   "source": [
    "theta"
   ]
  },
  {
   "cell_type": "code",
   "execution_count": 315,
   "id": "c18567ac",
   "metadata": {},
   "outputs": [],
   "source": [
    "pointX = np.linspace(5,25)\n",
    "pointY = theta[1]*xxxelnet + theta[0]"
   ]
  },
  {
   "cell_type": "code",
   "execution_count": 316,
   "id": "ec79b7ab",
   "metadata": {},
   "outputs": [
    {
     "data": {
      "image/png": "[encoded data removed]",
      "text/plain": [
       "<Figure size 640x480 with 1 Axes>"
      ]
     },
     "metadata": {},
     "output_type": "display_data"
    }
   ],
   "source": [
    "plt.scatter(list_pop, list_profit, s = 1, c = \"red\")\n",
    "\n",
    "plt.plot(pointX, pointY, alpha = 0.5, c=\"blue\")\n",
    "\n",
    "plt.xlabel(\"Population\")\n",
    "plt.ylabel(\"Profit\")\n",
    "plt.title(\"Using Batch LMS\")\n",
    "plt.show()"
   ]
  },
  {
   "cell_type": "code",
   "execution_count": 317,
   "id": "253cd0f9",
   "metadata": {},
   "outputs": [],
   "source": [
    "# using least square close form solution"
   ]
  },
  {
   "cell_type": "code",
   "execution_count": 318,
   "id": "b12aca70",
   "metadata": {},
   "outputs": [
    {
     "data": {
      "text/plain": [
       "(97, 2)"
      ]
     },
     "execution_count": 318,
     "metadata": {},
     "output_type": "execute_result"
    }
   ],
   "source": [
    "popl=[]\n",
    "for i in range(97):\n",
    "    l=[]\n",
    "    l.append(1.0)\n",
    "    l.append(list_pop[i])\n",
    "    popl.append(l)\n",
    "popl=np.array(popl)\n",
    "popl.shape"
   ]
  },
  {
   "cell_type": "code",
   "execution_count": 319,
   "id": "3560facf",
   "metadata": {},
   "outputs": [
    {
     "data": {
      "text/plain": [
       "(2, 97)"
      ]
     },
     "execution_count": 319,
     "metadata": {},
     "output_type": "execute_result"
    }
   ],
   "source": [
    "popl_T=popl.transpose()\n",
    "popl_T.shape"
   ]
  },
  {
   "cell_type": "code",
   "execution_count": 320,
   "id": "4dec142f",
   "metadata": {},
   "outputs": [
    {
     "data": {
      "text/plain": [
       "array([[  97.        ,  801.2006    ],\n",
       "       [ 801.2006    , 8055.45257374]])"
      ]
     },
     "execution_count": 320,
     "metadata": {},
     "output_type": "execute_result"
    }
   ],
   "source": [
    "multi_1=np.dot(popl_T,popl)\n",
    "multi_1"
   ]
  },
  {
   "cell_type": "code",
   "execution_count": 321,
   "id": "04672fb6",
   "metadata": {},
   "outputs": [],
   "source": [
    "inv=np.linalg.inv(multi_1)"
   ]
  },
  {
   "cell_type": "code",
   "execution_count": 322,
   "id": "d28a6d4b",
   "metadata": {},
   "outputs": [
    {
     "data": {
      "text/plain": [
       "(2, 97)"
      ]
     },
     "execution_count": 322,
     "metadata": {},
     "output_type": "execute_result"
    }
   ],
   "source": [
    "multi_2=np.dot(inv,popl_T)\n",
    "multi_2.shape"
   ]
  },
  {
   "cell_type": "code",
   "execution_count": 323,
   "id": "55fff8d8",
   "metadata": {},
   "outputs": [
    {
     "data": {
      "text/plain": [
       "(97, 1)"
      ]
     },
     "execution_count": 323,
     "metadata": {},
     "output_type": "execute_result"
    }
   ],
   "source": [
    "Y=np.array(list_profit)\n",
    "Yn = np.reshape(Y, (97, 1))\n",
    "Yn.shape"
   ]
  },
  {
   "cell_type": "code",
   "execution_count": 324,
   "id": "1a7362c7",
   "metadata": {},
   "outputs": [
    {
     "data": {
      "text/plain": [
       "array([[-3.91508424],\n",
       "       [ 1.19303364]])"
      ]
     },
     "execution_count": 324,
     "metadata": {},
     "output_type": "execute_result"
    }
   ],
   "source": [
    "final=np.dot(multi_2,Yn)\n",
    "final"
   ]
  },
  {
   "cell_type": "code",
   "execution_count": 325,
   "id": "61e70d27",
   "metadata": {},
   "outputs": [
    {
     "data": {
      "image/png": "[encoded data removed]",
      "text/plain": [
       "<Figure size 640x480 with 1 Axes>"
      ]
     },
     "metadata": {},
     "output_type": "display_data"
    }
   ],
   "source": [
    "pointX = np.linspace(5,25)\n",
    "pointY = final[1]*pointX + final[0]\n",
    "plt.scatter(list_pop, list_profit, s = 1, c = \"red\")\n",
    "plt.plot(pointX, pointY, alpha = 0.5, c=\"blue\")\n",
    "plt.xlabel(\"Population\")\n",
    "plt.ylabel(\"Profit\")\n",
    "plt.title(\"Using Least square close form\")\n",
    "plt.show()"
   ]
  },
  {
   "cell_type": "code",
   "execution_count": 326,
   "id": "e1526f34",
   "metadata": {},
   "outputs": [],
   "source": [
    "# using Elastic Net"
   ]
  },
  {
   "cell_type": "code",
   "execution_count": 327,
   "id": "07c942f9",
   "metadata": {},
   "outputs": [],
   "source": [
    "X = []\n",
    "Y = []\n",
    "for i in range(0, 97):\n",
    "    l = []\n",
    "    l.append(1.0)\n",
    "    l.append(list_pop[i])\n",
    "    Y.append(list_profit[i])\n",
    "    X.append(l)"
   ]
  },
  {
   "cell_type": "code",
   "execution_count": 328,
   "id": "aa292d78",
   "metadata": {},
   "outputs": [
    {
     "data": {
      "text/plain": [
       "(97, 2)"
      ]
     },
     "execution_count": 328,
     "metadata": {},
     "output_type": "execute_result"
    }
   ],
   "source": [
    "Xn = np.array(X)\n",
    "Xn.shape"
   ]
  },
  {
   "cell_type": "code",
   "execution_count": 329,
   "id": "35728ace",
   "metadata": {},
   "outputs": [
    {
     "data": {
      "text/plain": [
       "(97, 1)"
      ]
     },
     "execution_count": 329,
     "metadata": {},
     "output_type": "execute_result"
    }
   ],
   "source": [
    "Ynum = np.array(Y)\n",
    "Ynum = np.reshape(Y, (97, 1))\n",
    "Ynum.shape"
   ]
  },
  {
   "cell_type": "code",
   "execution_count": 330,
   "id": "3f6e078a",
   "metadata": {},
   "outputs": [
    {
     "data": {
      "text/plain": [
       "ElasticNet(alpha=0.5)"
      ]
     },
     "execution_count": 330,
     "metadata": {},
     "output_type": "execute_result"
    }
   ],
   "source": [
    "elnet = ElasticNet(alpha = 0.5) \n",
    "elnet.fit(Xn, Ynum) "
   ]
  },
  {
   "cell_type": "code",
   "execution_count": 331,
   "id": "e918b777",
   "metadata": {},
   "outputs": [
    {
     "data": {
      "text/plain": [
       "[-3.6146182812011443, 1.1566567389945928]"
      ]
     },
     "execution_count": 331,
     "metadata": {},
     "output_type": "execute_result"
    }
   ],
   "source": [
    "thetaelnet = []\n",
    "thetaelnet.append(elnet.intercept_[0])\n",
    "thetaelnet.append(elnet.coef_[1])\n",
    "thetaelnet"
   ]
  },
  {
   "cell_type": "code",
   "execution_count": 332,
   "id": "07a12ba3",
   "metadata": {},
   "outputs": [
    {
     "data": {
      "text/plain": [
       "435.21746000459973"
      ]
     },
     "execution_count": 332,
     "metadata": {},
     "output_type": "execute_result"
    }
   ],
   "source": [
    "    \n",
    "hxelnet = []\n",
    "lx00elnet = []\n",
    "lx11elnet = []\n",
    "\n",
    "for i in range(m):\n",
    "    lx00elnet.append(lx0[i]*thetaelnet[0])\n",
    "    lx11elnet.append(lx1[i]*thetaelnet[1])\n",
    "    hxelnet.append(lx00elnet[i] + lx11elnet[i])\n",
    "\n",
    "costelnet = cal_cost(thetaelnet, lx0, lx1, m, Y)\n",
    "costelnet"
   ]
  },
  {
   "cell_type": "code",
   "execution_count": 333,
   "id": "b43078d7",
   "metadata": {},
   "outputs": [
    {
     "data": {
      "text/plain": [
       "[-3.6146182812011443, 1.1566567389945928]"
      ]
     },
     "execution_count": 333,
     "metadata": {},
     "output_type": "execute_result"
    }
   ],
   "source": [
    "thetaelnet"
   ]
  },
  {
   "cell_type": "code",
   "execution_count": 334,
   "id": "7c6ce9f5",
   "metadata": {},
   "outputs": [],
   "source": [
    "# lasso"
   ]
  },
  {
   "cell_type": "code",
   "execution_count": 335,
   "id": "ad861702",
   "metadata": {},
   "outputs": [],
   "source": [
    "lasso = Lasso(alpha = 1)"
   ]
  },
  {
   "cell_type": "code",
   "execution_count": 336,
   "id": "2157ef54",
   "metadata": {},
   "outputs": [
    {
     "data": {
      "text/plain": [
       "Lasso(alpha=1)"
      ]
     },
     "execution_count": 336,
     "metadata": {},
     "output_type": "execute_result"
    }
   ],
   "source": [
    "lasso.fit(Xn, Ynum)"
   ]
  },
  {
   "cell_type": "code",
   "execution_count": 337,
   "id": "0d305dfc",
   "metadata": {},
   "outputs": [
    {
     "data": {
      "text/plain": [
       "[-3.3578032325506904, 1.1255645759094752]"
      ]
     },
     "execution_count": 337,
     "metadata": {},
     "output_type": "execute_result"
    }
   ],
   "source": [
    "thetalasso = []\n",
    "thetalasso.append(lasso.intercept_[0])\n",
    "thetalasso.append(lasso.coef_[1])\n",
    "thetalasso "
   ]
  },
  {
   "cell_type": "code",
   "execution_count": 338,
   "id": "ac5ad48f",
   "metadata": {},
   "outputs": [
    {
     "data": {
      "text/plain": [
       "437.5384732811781"
      ]
     },
     "execution_count": 338,
     "metadata": {},
     "output_type": "execute_result"
    }
   ],
   "source": [
    "#mean square error \n",
    "costlasso = cal_cost(thetalasso, lx0, lx1, m, Y)\n",
    "costlasso"
   ]
  },
  {
   "cell_type": "code",
   "execution_count": 339,
   "id": "1a6c7739",
   "metadata": {},
   "outputs": [],
   "source": [
    "# Ridge regression"
   ]
  },
  {
   "cell_type": "code",
   "execution_count": 340,
   "id": "01c105cb",
   "metadata": {},
   "outputs": [
    {
     "data": {
      "text/plain": [
       "[-3.908234831689253, 1.1922043975926349]"
      ]
     },
     "execution_count": 340,
     "metadata": {},
     "output_type": "execute_result"
    }
   ],
   "source": [
    "ridge = Ridge(alpha = 1)\n",
    "ridge.fit(Xn, Ynum)\n",
    "thetaridge = []\n",
    "thetaridge.append(ridge.intercept_[0])\n",
    "thetaridge.append(ridge.coef_[0][1])\n",
    "thetaridge"
   ]
  },
  {
   "cell_type": "code",
   "execution_count": 341,
   "id": "501f8955",
   "metadata": {},
   "outputs": [
    {
     "data": {
      "text/plain": [
       "434.2667177853122"
      ]
     },
     "execution_count": 341,
     "metadata": {},
     "output_type": "execute_result"
    }
   ],
   "source": [
    "#mean square error \n",
    "costridge = cal_cost(thetaridge, lx0, lx1, m, Y)\n",
    "costridge"
   ]
  },
  {
   "cell_type": "code",
   "execution_count": 342,
   "id": "7247aa4d",
   "metadata": {},
   "outputs": [
    {
     "data": {
      "image/png": "[encoded data removed]",
      "text/plain": [
       "<Figure size 640x480 with 1 Axes>"
      ]
     },
     "metadata": {},
     "output_type": "display_data"
    }
   ],
   "source": [
    "pointX = np.linspace(5,25)\n",
    "pointY1 = thetas[1]*pointX + thetas[0]\n",
    "pointY2 = theta[1]*pointX + theta[0]   \n",
    "pointY3 = final[1]*pointX + final[0]\n",
    "pointY4 = thetaelnet[1]*pointX + thetaelnet[0]\n",
    "pointY5 = thetalasso[1]*pointX + thetalasso[0]\n",
    "pointY6 = thetaridge[1]*pointX + thetaridge[0]\n",
    "\n",
    "plt.scatter(list_pop, list_profit, s = 1, c = \"red\")\n",
    "plt.plot(pointX, pointY1, alpha = 0.5, c=\"yellow\")\n",
    "plt.plot(pointX, pointY2, alpha = 0.5, c=\"blue\")\n",
    "plt.plot(pointX, pointY3, alpha = 0.5, c=\"orange\")\n",
    "plt.plot(pointX, pointY4, alpha = 0.5, c=\"violet\")\n",
    "plt.plot(pointX, pointY5, alpha = 0.5, c=\"black\")\n",
    "plt.plot(pointX, pointY6, alpha = 0.5, c=\"green\")\n",
    "\n",
    "plt.xlabel(\"Population\")\n",
    "plt.ylabel(\"Profit\")\n",
    "plt.title(\"comparision\")\n",
    "plt.show()"
   ]
  },
  {
   "cell_type": "code",
   "execution_count": 343,
   "id": "3646ee2d",
   "metadata": {},
   "outputs": [],
   "source": [
    "# Batch Cost"
   ]
  },
  {
   "cell_type": "code",
   "execution_count": 344,
   "id": "d5d5fb22",
   "metadata": {},
   "outputs": [
    {
     "data": {
      "text/plain": [
       "100000"
      ]
     },
     "execution_count": 344,
     "metadata": {},
     "output_type": "execute_result"
    }
   ],
   "source": [
    "len(costl)"
   ]
  },
  {
   "cell_type": "code",
   "execution_count": 345,
   "id": "59b8be89",
   "metadata": {},
   "outputs": [
    {
     "data": {
      "image/png": "[encoded data removed]",
      "text/plain": [
       "<Figure size 1000x1000 with 1 Axes>"
      ]
     },
     "metadata": {},
     "output_type": "display_data"
    }
   ],
   "source": [
    "fig = plt.figure(figsize = (10, 10))\n",
    "x_c = list(range(100000))\n",
    "plt.scatter(x_c, costl, s = 1, c = \"b\")\n",
    "plt.xlabel(\"iteration\")\n",
    "plt.ylabel(\"cost\")\n",
    "plt.title(\"cost in batch lms\")\n",
    "plt.show()"
   ]
  },
  {
   "cell_type": "code",
   "execution_count": 346,
   "id": "3f072aa6",
   "metadata": {},
   "outputs": [],
   "source": [
    "# stoichastic cost"
   ]
  },
  {
   "cell_type": "code",
   "execution_count": 347,
   "id": "7dd294d0",
   "metadata": {},
   "outputs": [
    {
     "data": {
      "text/plain": [
       "194000"
      ]
     },
     "execution_count": 347,
     "metadata": {},
     "output_type": "execute_result"
    }
   ],
   "source": [
    "len(costls)"
   ]
  },
  {
   "cell_type": "code",
   "execution_count": 349,
   "id": "61d13644",
   "metadata": {},
   "outputs": [
    {
     "data": {
      "image/png": "[encoded data removed]",
      "text/plain": [
       "<Figure size 1000x1000 with 1 Axes>"
      ]
     },
     "metadata": {},
     "output_type": "display_data"
    }
   ],
   "source": [
    "fig = plt.figure(figsize = (10, 10))\n",
    "x_cs = list(range(194000))\n",
    "plt.scatter(x_cs, costls, s = 1, c = \"b\")\n",
    "plt.xlabel(\"iteration\")\n",
    "plt.ylabel(\"cost\")\n",
    "plt.title(\"cost in stochastic lms\")\n",
    "plt.show()"
   ]
  },
  {
   "cell_type": "code",
   "execution_count": null,
   "id": "bcaf52f7",
   "metadata": {},
   "outputs": [],
   "source": []
  }
 ],
 "metadata": {
  "kernelspec": {
   "display_name": "Python 3 (ipykernel)",
   "language": "python",
   "name": "python3"
  },
  "language_info": {
   "codemirror_mode": {
    "name": "ipython",
    "version": 3
   },
   "file_extension": ".py",
   "mimetype": "text/x-python",
   "name": "python",
   "nbconvert_exporter": "python",
   "pygments_lexer": "ipython3",
   "version": "3.9.13"
  }
 },
 "nbformat": 4,
 "nbformat_minor": 5
}
