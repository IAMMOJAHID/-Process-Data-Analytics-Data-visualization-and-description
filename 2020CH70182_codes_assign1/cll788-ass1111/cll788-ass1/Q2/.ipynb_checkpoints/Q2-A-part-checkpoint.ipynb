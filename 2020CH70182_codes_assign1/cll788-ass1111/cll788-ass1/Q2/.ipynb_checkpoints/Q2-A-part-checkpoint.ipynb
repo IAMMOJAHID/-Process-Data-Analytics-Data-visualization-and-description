{
 "cells": [
  {
   "cell_type": "code",
   "execution_count": 92,
   "id": "c2394065",
   "metadata": {},
   "outputs": [],
   "source": [
    "import pandas as pd\n",
    "import numpy as np \n",
    "import matplotlib.pyplot as plt\n",
    "import time"
   ]
  },
  {
   "cell_type": "code",
   "execution_count": 93,
   "id": "9e87aeac",
   "metadata": {},
   "outputs": [],
   "source": [
    "data=pd.read_excel(\"q1.xlsx\")"
   ]
  },
  {
   "cell_type": "code",
   "execution_count": 94,
   "id": "f927091e",
   "metadata": {},
   "outputs": [
    {
     "data": {
      "text/plain": [
       "(97,)"
      ]
     },
     "execution_count": 94,
     "metadata": {},
     "output_type": "execute_result"
    }
   ],
   "source": [
    "list_pop=np.array(data[\"Population in 10,000's\"])\n",
    "list_pop.shape"
   ]
  },
  {
   "cell_type": "code",
   "execution_count": 95,
   "id": "8c7bd254",
   "metadata": {},
   "outputs": [
    {
     "data": {
      "text/plain": [
       "(97,)"
      ]
     },
     "execution_count": 95,
     "metadata": {},
     "output_type": "execute_result"
    }
   ],
   "source": [
    "list_profit=np.array(data[\"Profit In Lakhs(Rs)\"])\n",
    "list_profit.shape"
   ]
  },
  {
   "cell_type": "code",
   "execution_count": 96,
   "id": "64b2e352",
   "metadata": {},
   "outputs": [],
   "source": [
    "# stochastic LMS"
   ]
  },
  {
   "cell_type": "code",
   "execution_count": 97,
   "id": "15d2656e",
   "metadata": {},
   "outputs": [],
   "source": [
    "eps = 0\n",
    "alphas = 0.001\n",
    "thetas = [0.0, 0.0]"
   ]
  },
  {
   "cell_type": "code",
   "execution_count": 98,
   "id": "871f82b9",
   "metadata": {},
   "outputs": [
    {
     "name": "stdout",
     "output_type": "stream",
     "text": [
      "time taken to converge =  0.2583341598510742\n"
     ]
    }
   ],
   "source": [
    "start = time.time()\n",
    "while eps<2000:\n",
    "    \n",
    "    for i in range(len(list_pop)):\n",
    "        hxi = thetas[0] + thetas[1]*list_pop[i]\n",
    "        thetas[0] = thetas[0] + alphas*(list_profit[i] - hxi)\n",
    "        thetas[1] = thetas[1] + alphas*(list_profit[i] - hxi)*list_pop[i]        \n",
    "    eps = eps + 1\n",
    "    \n",
    "end = time.time()\n",
    "print(\"time taken to converge = \", end - start)"
   ]
  },
  {
   "cell_type": "code",
   "execution_count": 99,
   "id": "a093466f",
   "metadata": {},
   "outputs": [
    {
     "data": {
      "text/plain": [
       "[-3.8284881984190084, 1.0208289676852411]"
      ]
     },
     "execution_count": 99,
     "metadata": {},
     "output_type": "execute_result"
    }
   ],
   "source": [
    "thetas"
   ]
  },
  {
   "cell_type": "code",
   "execution_count": 100,
   "id": "486c036b",
   "metadata": {},
   "outputs": [],
   "source": [
    "xxxelnet = np.linspace(5,25)\n",
    "yyyelnet = thetas[1]*xxxelnet + thetas[0]"
   ]
  },
  {
   "cell_type": "code",
   "execution_count": 101,
   "id": "980f200c",
   "metadata": {},
   "outputs": [
    {
     "data": {
      "image/png": "[encoded data removed]",
      "text/plain": [
       "<Figure size 640x480 with 1 Axes>"
      ]
     },
     "metadata": {},
     "output_type": "display_data"
    }
   ],
   "source": [
    "plt.scatter(list_pop, list_profit, s = 1, c = \"red\")\n",
    "\n",
    "plt.plot(xxxelnet, yyyelnet, \"-y\", alpha = 0.5)\n",
    "\n",
    "plt.xlabel(\"Population\")\n",
    "plt.ylabel(\"Profit\")\n",
    "plt.title(\"Population Vs Profit\")\n",
    "plt.show()"
   ]
  },
  {
   "cell_type": "code",
   "execution_count": 102,
   "id": "59708476",
   "metadata": {},
   "outputs": [],
   "source": [
    "# Batch LMS"
   ]
  },
  {
   "cell_type": "code",
   "execution_count": 103,
   "id": "65f08549",
   "metadata": {},
   "outputs": [],
   "source": [
    "itr = 0\n",
    "alpha = 0.0001\n",
    "theta = [0.0, 0.0]\n",
    "m=len(list_pop)"
   ]
  },
  {
   "cell_type": "code",
   "execution_count": 215,
   "id": "bdcf3df4",
   "metadata": {},
   "outputs": [],
   "source": [
    "def matrixmulti(theta, lx0, lx1, m):\n",
    "    \n",
    "    hx = []\n",
    "    lx00 = []\n",
    "    lx11 = []\n",
    "    \n",
    "    for i in range(m):\n",
    "        lx00.append(lx0[i]*theta[0])\n",
    "        lx11.append(lx1[i]*theta[1])\n",
    "        hx.append(lx00[i] + lx11[i])\n",
    "        \n",
    "    return hx"
   ]
  },
  {
   "cell_type": "code",
   "execution_count": 214,
   "id": "10a44623",
   "metadata": {},
   "outputs": [],
   "source": [
    "def cal_cost(theta, lx0, lx1, m, Y):\n",
    "    \n",
    "    sub1 = []\n",
    "    hx = matrixmulti(theta, lx0, lx1, m)\n",
    "    for i in range(m):\n",
    "        sub1.append(hx[i] - Y[i])\n",
    "        \n",
    "    suml = 0\n",
    "    for i in range(m):\n",
    "        suml = suml + (hx[i] - Y[i])**2\n",
    "        \n",
    "    cost1 = (0.5)*suml\n",
    "    \n",
    "    return cost1"
   ]
  },
  {
   "cell_type": "code",
   "execution_count": 104,
   "id": "21df7d22",
   "metadata": {},
   "outputs": [
    {
     "name": "stdout",
     "output_type": "stream",
     "text": [
      "time taken to converge =  12.691094636917114\n"
     ]
    }
   ],
   "source": [
    "start = time.time()\n",
    "while itr<100000:\n",
    "    su1=0.0\n",
    "    su2=0.0\n",
    "    for i in range(m):\n",
    "        su1 = su1+ (list_profit[i]-(theta[0] + theta[1]*list_pop[i]))\n",
    "        su2 = su2+ (list_profit[i]-(theta[0] + theta[1]*list_pop[i]))*list_pop[i]\n",
    "        \n",
    "    theta[0] = theta[0] + alpha*su1\n",
    "    theta[1] = theta[1] + alpha*su2        \n",
    "    itr = itr + 1\n",
    "    \n",
    "end = time.time()\n",
    "print(\"time taken to converge = \", end - start)"
   ]
  },
  {
   "cell_type": "code",
   "execution_count": 105,
   "id": "3d110e23",
   "metadata": {},
   "outputs": [
    {
     "data": {
      "text/plain": [
       "[-3.915084242730683, 1.1930336441895806]"
      ]
     },
     "execution_count": 105,
     "metadata": {},
     "output_type": "execute_result"
    }
   ],
   "source": [
    "theta"
   ]
  },
  {
   "cell_type": "code",
   "execution_count": 106,
   "id": "c18567ac",
   "metadata": {},
   "outputs": [],
   "source": [
    "pointX = np.linspace(5,25)\n",
    "pointY = theta[1]*xxxelnet + theta[0]"
   ]
  },
  {
   "cell_type": "code",
   "execution_count": 107,
   "id": "ec79b7ab",
   "metadata": {},
   "outputs": [
    {
     "data": {
      "image/png": "[encoded data removed]",
      "text/plain": [
       "<Figure size 640x480 with 1 Axes>"
      ]
     },
     "metadata": {},
     "output_type": "display_data"
    }
   ],
   "source": [
    "plt.scatter(list_pop, list_profit, s = 1, c = \"red\")\n",
    "\n",
    "plt.plot(pointX, pointY, alpha = 0.5, c=\"blue\")\n",
    "\n",
    "plt.xlabel(\"Population\")\n",
    "plt.ylabel(\"Profit\")\n",
    "plt.title(\"Using Batch LMS\")\n",
    "plt.show()"
   ]
  },
  {
   "cell_type": "code",
   "execution_count": 109,
   "id": "253cd0f9",
   "metadata": {},
   "outputs": [],
   "source": [
    "# using least square close form solution"
   ]
  },
  {
   "cell_type": "code",
   "execution_count": 191,
   "id": "b12aca70",
   "metadata": {},
   "outputs": [
    {
     "data": {
      "text/plain": [
       "(97, 2)"
      ]
     },
     "execution_count": 191,
     "metadata": {},
     "output_type": "execute_result"
    }
   ],
   "source": [
    "popl=[]\n",
    "for i in range(97):\n",
    "    l=[]\n",
    "    l.append(1.0)\n",
    "    l.append(list_pop[i])\n",
    "    popl.append(l)\n",
    "popl=np.array(popl)\n",
    "popl.shape"
   ]
  },
  {
   "cell_type": "code",
   "execution_count": 193,
   "id": "3560facf",
   "metadata": {},
   "outputs": [
    {
     "data": {
      "text/plain": [
       "(2, 97)"
      ]
     },
     "execution_count": 193,
     "metadata": {},
     "output_type": "execute_result"
    }
   ],
   "source": [
    "popl_T=popl.transpose()\n",
    "popl_T.shape"
   ]
  },
  {
   "cell_type": "code",
   "execution_count": 207,
   "id": "4dec142f",
   "metadata": {},
   "outputs": [
    {
     "data": {
      "text/plain": [
       "array([[  97.        ,  801.2006    ],\n",
       "       [ 801.2006    , 8055.45257374]])"
      ]
     },
     "execution_count": 207,
     "metadata": {},
     "output_type": "execute_result"
    }
   ],
   "source": [
    "multi_1=np.dot(popl_T,popl)\n",
    "multi_1"
   ]
  },
  {
   "cell_type": "code",
   "execution_count": 208,
   "id": "04672fb6",
   "metadata": {},
   "outputs": [],
   "source": [
    "inv=np.linalg.inv(multi_1)"
   ]
  },
  {
   "cell_type": "code",
   "execution_count": 209,
   "id": "d28a6d4b",
   "metadata": {},
   "outputs": [
    {
     "data": {
      "text/plain": [
       "(2, 97)"
      ]
     },
     "execution_count": 209,
     "metadata": {},
     "output_type": "execute_result"
    }
   ],
   "source": [
    "multi_2=np.dot(inv,popl_T)\n",
    "multi_2.shape"
   ]
  },
  {
   "cell_type": "code",
   "execution_count": 210,
   "id": "55fff8d8",
   "metadata": {},
   "outputs": [
    {
     "data": {
      "text/plain": [
       "(97, 1)"
      ]
     },
     "execution_count": 210,
     "metadata": {},
     "output_type": "execute_result"
    }
   ],
   "source": [
    "Y=np.array(list_profit)\n",
    "Yn = np.reshape(Y, (97, 1))\n",
    "Yn.shape"
   ]
  },
  {
   "cell_type": "code",
   "execution_count": 211,
   "id": "1a7362c7",
   "metadata": {},
   "outputs": [
    {
     "data": {
      "text/plain": [
       "array([[-3.91508424],\n",
       "       [ 1.19303364]])"
      ]
     },
     "execution_count": 211,
     "metadata": {},
     "output_type": "execute_result"
    }
   ],
   "source": [
    "final=np.dot(multi_2,Yn)\n",
    "final"
   ]
  },
  {
   "cell_type": "code",
   "execution_count": 213,
   "id": "61e70d27",
   "metadata": {},
   "outputs": [
    {
     "data": {
      "image/png": "[encoded data removed]",
      "text/plain": [
       "<Figure size 640x480 with 1 Axes>"
      ]
     },
     "metadata": {},
     "output_type": "display_data"
    }
   ],
   "source": [
    "pointX = np.linspace(5,25)\n",
    "pointY = final[1]*pointX + final[0]\n",
    "plt.scatter(list_pop, list_profit, s = 1, c = \"red\")\n",
    "plt.plot(pointX, pointY, alpha = 0.5, c=\"blue\")\n",
    "plt.xlabel(\"Population\")\n",
    "plt.ylabel(\"Profit\")\n",
    "plt.title(\"Using Least square close form\")\n",
    "plt.show()"
   ]
  },
  {
   "cell_type": "code",
   "execution_count": null,
   "id": "e1526f34",
   "metadata": {},
   "outputs": [],
   "source": [
    "# using Mini Batch"
   ]
  }
 ],
 "metadata": {
  "kernelspec": {
   "display_name": "Python 3 (ipykernel)",
   "language": "python",
   "name": "python3"
  },
  "language_info": {
   "codemirror_mode": {
    "name": "ipython",
    "version": 3
   },
   "file_extension": ".py",
   "mimetype": "text/x-python",
   "name": "python",
   "nbconvert_exporter": "python",
   "pygments_lexer": "ipython3",
   "version": "3.9.13"
  }
 },
 "nbformat": 4,
 "nbformat_minor": 5
}
