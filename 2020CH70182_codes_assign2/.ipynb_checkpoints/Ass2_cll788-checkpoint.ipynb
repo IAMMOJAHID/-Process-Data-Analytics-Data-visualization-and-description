{
 "cells": [
  {
   "cell_type": "code",
   "execution_count": 1,
   "id": "003d8022",
   "metadata": {},
   "outputs": [],
   "source": [
    "import numpy as np\n",
    "import pandas as pd\n",
    "import matplotlib.pyplot as plt\n",
    "import matplotlib.style as style\n",
    "import seaborn as sns\n",
    "import math"
   ]
  },
  {
   "cell_type": "code",
   "execution_count": 132,
   "id": "38c8c8c0",
   "metadata": {},
   "outputs": [],
   "source": [
    "# Perceptron\n",
    "q1train =  pd.read_excel('q1train.xlsx')\n",
    "x = np.array(q1train[['Aptitude','Verbal']].copy())\n",
    "y = np.array(q1train[['Label']].copy()).reshape(-1,1)"
   ]
  },
  {
   "cell_type": "code",
   "execution_count": 3,
   "id": "29a5c488",
   "metadata": {},
   "outputs": [],
   "source": [
    "for i in range(len(y)):\n",
    "    if(y[i][0]==0):\n",
    "        y[i][0]=-1"
   ]
  },
  {
   "cell_type": "code",
   "execution_count": 4,
   "id": "b152106b",
   "metadata": {},
   "outputs": [],
   "source": [
    "w = [-20,-10]\n",
    "threshold = 0\n",
    "bias = 10\n",
    "learning_rate = 0.0001\n",
    "max_iterations = 100"
   ]
  },
  {
   "cell_type": "code",
   "execution_count": 5,
   "id": "2892b607",
   "metadata": {},
   "outputs": [],
   "source": [
    "for k in range(1, max_iterations):\n",
    "    for i in range(0,len(x)):\n",
    "        sum = (x[i][0] * w[0]) + (x[i][1] * w[1]) + bias\n",
    "        if(sum*y[i][0]<0):         \n",
    "            w[0] = w[0] + (learning_rate * y[i][0]* x[i][0])\n",
    "            w[1] = w[1] + (learning_rate * y[i][0]* x[i][1])\n",
    "            bias = bias + learning_rate * y[i][0]\n"
   ]
  },
  {
   "cell_type": "code",
   "execution_count": 6,
   "id": "170e9cad",
   "metadata": {},
   "outputs": [
    {
     "data": {
      "text/plain": [
       "(-1.9801877929349272, 2.0753618783829615, 10.189299999999559)"
      ]
     },
     "execution_count": 6,
     "metadata": {},
     "output_type": "execute_result"
    }
   ],
   "source": [
    "q1test =  pd.read_excel('q1test.xlsx')\n",
    "x_test = np.array(q1test[['Aptitude','Verbal']].copy())\n",
    "w[0], w[1], bias"
   ]
  },
  {
   "cell_type": "code",
   "execution_count": 131,
   "id": "3bcc032d",
   "metadata": {},
   "outputs": [
    {
     "data": {
      "text/plain": [
       "[32.82283304,\n",
       " 64.13932042,\n",
       " 72.44649423,\n",
       " 60.55788574,\n",
       " 58.94095622,\n",
       " 47.36426911,\n",
       " 50.5581598,\n",
       " 67.41925747,\n",
       " 57.33870632,\n",
       " 80.466756,\n",
       " 68.56852179,\n",
       " 42.17545454,\n",
       " 75.57770201,\n",
       " 78.73542435,\n",
       " 52.44800399,\n",
       " 90.54855097,\n",
       " 74.59269242,\n",
       " 42.36170081,\n",
       " 55.44001756,\n",
       " 74.875893]"
      ]
     },
     "execution_count": 131,
     "metadata": {},
     "output_type": "execute_result"
    }
   ],
   "source": [
    "x1test_pass=[]\n",
    "x2test_pass=[]\n",
    "\n",
    "x1test_fail=[]\n",
    "x2test_fail=[]\n",
    "\n",
    "for i in range(len(x_test)):\n",
    "    if( (bias + w[0]*x_test[i][0] + w[1]*x_test[i][1]) > 0):\n",
    "        x1test_pass.append(x_test[i][0])\n",
    "        x2test_pass.append(x_test[i][1])\n",
    "    else:\n",
    "        x1test_fail.append(x_test[i][0])\n",
    "        x2test_fail.append(x_test[i][1])\n",
    "x1test_pass"
   ]
  },
  {
   "cell_type": "code",
   "execution_count": 91,
   "id": "3b7e04a1",
   "metadata": {},
   "outputs": [
    {
     "data": {
      "image/png": "[encoded data removed]",
      "text/plain": [
       "<Figure size 500x500 with 1 Axes>"
      ]
     },
     "metadata": {},
     "output_type": "display_data"
    }
   ],
   "source": [
    "fig = plt.figure(figsize = (5, 5))\n",
    "plt.scatter(x1test_pass,x2test_pass, s = 8, c = \"orange\")  \n",
    "plt.scatter(  x1test_fail, x2test_fail, s = 3, c = \"blue\")\n",
    "plt.show() "
   ]
  },
  {
   "cell_type": "code",
   "execution_count": 9,
   "id": "5643f21d",
   "metadata": {},
   "outputs": [],
   "source": [
    "# Multi-layer perceptron"
   ]
  },
  {
   "cell_type": "code",
   "execution_count": 114,
   "id": "6438122b",
   "metadata": {},
   "outputs": [],
   "source": [
    "I_w1 = [0,0]\n",
    "I_w2 = [0,0]\n",
    "I_bias1=100\n",
    "I_bias2=1\n",
    "\n",
    "h_w1 = [0,0]\n",
    "h_w2 = [0,0]\n",
    "h_bias1=1\n",
    "h_bias2=1\n",
    "\n",
    "O_w1 = [0,0]\n",
    "O_bias1=1\n",
    "\n",
    "m_learning_rate = 1\n",
    "max_iterations = 200\n",
    "d=0.0000000000000000000001"
   ]
  },
  {
   "cell_type": "code",
   "execution_count": 115,
   "id": "8f8d4f84",
   "metadata": {},
   "outputs": [],
   "source": [
    "for k in range(1, max_iterations):\n",
    "    for i in range(0,len(x)):\n",
    "        sum1 = (x[i][0] * I_w1[0]) + (x[i][1] * I_w1[1]) + I_bias1\n",
    "        sum2 = (x[i][0] * I_w2[0]) + (x[i][1] * I_w2[1]) + I_bias2\n",
    "        if(sum1*y[i][0]<0):         \n",
    "            I_w1[0] = I_w1[0] + (learning_rate * y[i][0]* x[i][0])\n",
    "            I_w1[1] = I_w1[1] + (learning_rate * y[i][0]* x[i][1])\n",
    "            I_bias1 = I_bias1 + learning_rate * y[i][0]\n",
    "            \n",
    "        if(sum2*y[i][0]<0):         \n",
    "            I_w1[0] = I_w1[0] + (learning_rate * y[i][0]* x[i][0])\n",
    "            I_w1[1] = I_w1[1] + (learning_rate * y[i][0]* x[i][1])\n",
    "            I_bias1 = I_bias1 + learning_rate * y[i][0]\n",
    "        \n",
    "        temp1=(h_w1[0]*sum1+h_w1[1]*sum2+h_bias1)\n",
    "        temp2=(h_w2[0]*sum1+h_w2[1]*sum2+h_bias2)\n",
    "        if( temp1*y[i][0] <0 ):\n",
    "            h_w1[0] = h_w1[0] + (learning_rate * y[i][0]*sum1)\n",
    "            h_w1[1] = h_w1[1] + (learning_rate * y[i][0]*sum2)\n",
    "            h_bias1 = h_bias1 + learning_rate * y[i][0]\n",
    "            \n",
    "        if( temp2*y[i][0] <0 ):\n",
    "            h_w2[0] = h_w2[0] + (learning_rate * y[i][0]*sum1)\n",
    "            h_w2[1] = h_w2[1] + (learning_rate * y[i][0]*sum2)\n",
    "            h_bias2 = h_bias2 + learning_rate * y[i][0]\n",
    "            \n",
    "        sigma=1/(1+math.exp(-(temp1*O_w1[0]+temp2*O_w1[1]+O_bias1)*d))\n",
    "        if( sigma*y[i][0]<0 ):\n",
    "            O_w1[0] = O_w1[0] + (learning_rate * y[i][0]*temp1)\n",
    "            O_w1[1] = O_w1[1] + (learning_rate * y[i][0]*temp2)\n",
    "            O_bias1 = O_bias1 + learning_rate * y[i][0]"
   ]
  },
  {
   "cell_type": "code",
   "execution_count": 118,
   "id": "edc2466b",
   "metadata": {},
   "outputs": [],
   "source": [
    "x1test_p=[]\n",
    "x2test_p=[]\n",
    "\n",
    "x1test_f=[]\n",
    "x2test_f=[]\n",
    "\n",
    "for i in range(len(x_test)):\n",
    "    sum1 = (x_test[i][0] * I_w1[0]) + (x_test[i][1] * I_w1[1]) + I_bias1\n",
    "    sum2 = (x_test[i][0] * I_w2[0]) + (x_test[i][1] * I_w2[1]) + I_bias2\n",
    "    \n",
    "    temp1=(h_w1[0]*sum1+h_w1[1]*sum2+h_bias1)*0.000001\n",
    "    temp2=(h_w2[0]*sum1+h_w2[1]*sum2+h_bias2)*0.000001\n",
    "    \n",
    "    sigma=1/(1+math.exp(-(temp1*O_w1[0]+temp2*O_w1[1]+O_bias1)))\n",
    "    if(sigma>0.5):\n",
    "        x1test_p.append(x_test[i][0])\n",
    "        x2test_p.append(x_test[i][1])\n",
    "    else:\n",
    "        x1test_f.append(x_test[i][0])\n",
    "        x2test_f.append(x_test[i][1])\n",
    "    "
   ]
  },
  {
   "cell_type": "code",
   "execution_count": 124,
   "id": "37f0c8ee",
   "metadata": {},
   "outputs": [
    {
     "data": {
      "image/png": "[encoded data removed]",
      "text/plain": [
       "<Figure size 500x500 with 1 Axes>"
      ]
     },
     "metadata": {},
     "output_type": "display_data"
    }
   ],
   "source": [
    "fig = plt.figure(figsize = (5, 5))\n",
    "plt.scatter( x2test_pass, x1test_pass, s = 3, c = \"blue\")  \n",
    "plt.scatter( x2test_fail, x1test_fail, s = 3, c = \"orange\")\n",
    "plt.show()                                                "
   ]
  },
  {
   "cell_type": "code",
   "execution_count": 53,
   "id": "326b2a10",
   "metadata": {},
   "outputs": [],
   "source": [
    "# Logistic regression"
   ]
  },
  {
   "cell_type": "code",
   "execution_count": 54,
   "id": "659d7aff",
   "metadata": {},
   "outputs": [],
   "source": [
    "l = [-10,-10]\n",
    "biasl = 10\n",
    "learn_rate = 0.001\n",
    "max_iterations = 100\n",
    "t=0.43"
   ]
  },
  {
   "cell_type": "code",
   "execution_count": 55,
   "id": "750f7d41",
   "metadata": {},
   "outputs": [],
   "source": [
    "for k in range(1, max_iterations):\n",
    "    for i in range(0,len(x)):\n",
    "        sum = (x[i][0] * l[0]) + (x[i][1] * l[1]) + biasl\n",
    "        sigma=1/(1+math.exp(-sum*0.00001))\n",
    "        if(sigma*y[i][0]<0):         \n",
    "            l[0] = l[0] + (learn_rate * y[i][0]* x[i][0])\n",
    "            l[1] = l[1] + (learn_rate * y[i][0]* x[i][1])\n",
    "            biasl = biasl + learn_rate * y[i][0]"
   ]
  },
  {
   "cell_type": "code",
   "execution_count": 56,
   "id": "c2665713",
   "metadata": {},
   "outputs": [],
   "source": [
    "x1test_pl=[]\n",
    "x2test_pl=[]\n",
    "\n",
    "x1test_fl=[]\n",
    "x2test_fl=[]\n",
    "\n",
    "for i in range(len(x_test)):\n",
    "    ins=(biasl + l[0]*x_test[i][0] + l[1]*x_test[i][1])\n",
    "    sigma=1/(1+math.exp(-ins*0.00001))\n",
    "    if( sigma>t):\n",
    "        x1test_pl.append(x_test[i][0])\n",
    "        x2test_pl.append(x_test[i][1])\n",
    "    else:\n",
    "        x1test_fl.append(x_test[i][0])\n",
    "        x2test_fl.append(x_test[i][1])"
   ]
  },
  {
   "cell_type": "code",
   "execution_count": 126,
   "id": "542b6028",
   "metadata": {},
   "outputs": [
    {
     "data": {
      "text/plain": [
       "[32.82283304,\n",
       " 60.55788574,\n",
       " 58.94095622,\n",
       " 47.36426911,\n",
       " 50.5581598,\n",
       " 60.55555629,\n",
       " 82.32666158,\n",
       " 94.93450672,\n",
       " 67.41925747,\n",
       " 57.33870632,\n",
       " 42.17545454,\n",
       " 52.44800399,\n",
       " 55.58216114,\n",
       " 89.94580671,\n",
       " 83.58916274,\n",
       " 42.36170081,\n",
       " 55.44001756]"
      ]
     },
     "execution_count": 126,
     "metadata": {},
     "output_type": "execute_result"
    }
   ],
   "source": [
    "x1test_pl"
   ]
  },
  {
   "cell_type": "code",
   "execution_count": 127,
   "id": "88f27327",
   "metadata": {},
   "outputs": [
    {
     "data": {
      "text/plain": [
       "[43.40717306,\n",
       " 73.1949981,\n",
       " 75.95844831,\n",
       " 88.575865,\n",
       " 75.90985953,\n",
       " 42.60840944,\n",
       " 42.81987854,\n",
       " 45.7943068,\n",
       " 66.68935318,\n",
       " 59.61428198,\n",
       " 78.944786,\n",
       " 60.86950526,\n",
       " 35.67070347,\n",
       " 45.45828361,\n",
       " 48.4802858,\n",
       " 87.20385094,\n",
       " 65.03193801]"
      ]
     },
     "execution_count": 127,
     "metadata": {},
     "output_type": "execute_result"
    }
   ],
   "source": [
    "x2test_pl"
   ]
  },
  {
   "cell_type": "code",
   "execution_count": 130,
   "id": "152bb8bf",
   "metadata": {},
   "outputs": [
    {
     "data": {
      "text/plain": [
       "([64.13932042,\n",
       "  72.44649423,\n",
       "  99.9278578,\n",
       "  89.01389642,\n",
       "  80.466756,\n",
       "  68.56852179,\n",
       "  75.57770201,\n",
       "  78.73542435,\n",
       "  94.19433113,\n",
       "  90.54855097,\n",
       "  74.59269242,\n",
       "  99.41500881,\n",
       "  74.875893],\n",
       " [78.13168802,\n",
       "  96.32759297,\n",
       "  72.46925193,\n",
       "  69.9037889,\n",
       "  91.0601479,\n",
       "  85.6943071,\n",
       "  90.524539,\n",
       "  96.74742717,\n",
       "  77.25910509,\n",
       "  87.60879176,\n",
       "  84.94513685,\n",
       "  68.87540947,\n",
       "  89.6298129])"
      ]
     },
     "execution_count": 130,
     "metadata": {},
     "output_type": "execute_result"
    }
   ],
   "source": [
    "x1test_fl, x2test_fl"
   ]
  },
  {
   "cell_type": "code",
   "execution_count": 58,
   "id": "61e81e86",
   "metadata": {},
   "outputs": [
    {
     "data": {
      "image/png": "[encoded data removed]",
      "text/plain": [
       "<Figure size 500x500 with 1 Axes>"
      ]
     },
     "metadata": {},
     "output_type": "display_data"
    }
   ],
   "source": [
    "fig = plt.figure(figsize = (5, 5))\n",
    "plt.scatter(x1test_pl, x2test_pl, s = 8, c = \"orange\")  \n",
    "plt.scatter(x1test_fl, x2test_fl, s = 3, c = \"blue\")\n",
    "plt.show() "
   ]
  },
  {
   "cell_type": "code",
   "execution_count": null,
   "id": "8aa21c28",
   "metadata": {},
   "outputs": [],
   "source": []
  }
 ],
 "metadata": {
  "kernelspec": {
   "display_name": "Python 3 (ipykernel)",
   "language": "python",
   "name": "python3"
  },
  "language_info": {
   "codemirror_mode": {
    "name": "ipython",
    "version": 3
   },
   "file_extension": ".py",
   "mimetype": "text/x-python",
   "name": "python",
   "nbconvert_exporter": "python",
   "pygments_lexer": "ipython3",
   "version": "3.9.13"
  }
 },
 "nbformat": 4,
 "nbformat_minor": 5
}
